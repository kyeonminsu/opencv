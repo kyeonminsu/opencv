{
 "cells": [
  {
   "cell_type": "markdown",
   "metadata": {},
   "source": [
    "# Mouse로 그리기"
   ]
  },
  {
   "cell_type": "markdown",
   "metadata": {},
   "source": [
    "# 작동방법"
   ]
  },
  {
   "cell_type": "markdown",
   "metadata": {},
   "source": [
    "OpenCV에는 이미 Mouse Event의 종류에 대해서 사전 정의가 되어 있습니다. \n",
    "확인을 하기 위해서 Python Terminal에서 아래와 같이 입력해보시기 바랍니다."
   ]
  },
  {
   "cell_type": "code",
   "execution_count": 5,
   "metadata": {},
   "outputs": [],
   "source": [
    "import cv2\n",
    "import numpy as np"
   ]
  },
  {
   "cell_type": "code",
   "execution_count": 3,
   "metadata": {},
   "outputs": [
    {
     "name": "stdout",
     "output_type": "stream",
     "text": [
      "['EVENT_FLAG_ALTKEY', 'EVENT_FLAG_CTRLKEY', 'EVENT_FLAG_LBUTTON', 'EVENT_FLAG_MBUTTON', 'EVENT_FLAG_RBUTTON', 'EVENT_FLAG_SHIFTKEY', 'EVENT_LBUTTONDBLCLK', 'EVENT_LBUTTONDOWN', 'EVENT_LBUTTONUP', 'EVENT_MBUTTONDBLCLK', 'EVENT_MBUTTONDOWN', 'EVENT_MBUTTONUP', 'EVENT_MOUSEHWHEEL', 'EVENT_MOUSEMOVE', 'EVENT_MOUSEWHEEL', 'EVENT_RBUTTONDBLCLK', 'EVENT_RBUTTONDOWN', 'EVENT_RBUTTONUP']\n"
     ]
    }
   ],
   "source": [
    "events = [i for i in dir(cv2) if 'EVENT' in i]\n",
    "print (events)"
   ]
  },
  {
   "cell_type": "markdown",
   "metadata": {},
   "source": [
    "cv2.setMouseCallback(windowName, callback, param=None)\n",
    "\n",
    "Parameters:\t\n",
    "\n",
    "    1.windowName – windowName\n",
    "    \n",
    "    2.callback – callback함수. callback함수에는 (event, x, y, flags, param)가 전\n",
    "    \n",
    "      달 됨.\n",
    "    \n",
    "    3.param – callback함수에 전달되는 Data"
   ]
  },
  {
   "cell_type": "code",
   "execution_count": 13,
   "metadata": {},
   "outputs": [],
   "source": [
    "#첫번째 예제\n",
    "from random import shuffle\n",
    "\n",
    "b=[i for i in range(256)]\n",
    "g=[i for i in range(256)]\n",
    "r=[i for i in range(256)]\n",
    "\n",
    "#callback 함수\n",
    "def draw_circle(event, x, y, flags, param):\n",
    "    if event == cv2.EVENT_LBUTTONDBLCLK:\n",
    "        shuffle(b),shuffle(g),shuffle(r)\n",
    "        cv2.circle(param,(x,y), 50,(b[0], g[0], r[0]),-1)\n",
    "\n",
    "# 빈 Image 생성\n",
    "img = np.zeros((512,512,3), np.uint8)\n",
    "cv2.namedWindow('image')\n",
    "cv2.setMouseCallback('image', draw_circle, param=img)\n",
    "\n",
    "while True:\n",
    "    cv2.imshow('image', img)\n",
    "    if cv2.waitKey(1) & 0xFF == 27:  #ESC \n",
    "        break\n",
    "\n",
    "cv2.destroyAllWindows()"
   ]
  },
  {
   "cell_type": "code",
   "execution_count": 46,
   "metadata": {},
   "outputs": [
    {
     "ename": "TabError",
     "evalue": "inconsistent use of tabs and spaces in indentation (<ipython-input-46-1aead427816d>, line 19)",
     "output_type": "error",
     "traceback": [
      "\u001b[1;36m  File \u001b[1;32m\"<ipython-input-46-1aead427816d>\"\u001b[1;36m, line \u001b[1;32m19\u001b[0m\n\u001b[1;33m    drawing = True\u001b[0m\n\u001b[1;37m                   ^\u001b[0m\n\u001b[1;31mTabError\u001b[0m\u001b[1;31m:\u001b[0m inconsistent use of tabs and spaces in indentation\n"
     ]
    }
   ],
   "source": [
    "#두번째 예제\n",
    "from random import shuffle\n",
    "import math\n",
    "\n",
    "drawing = False #Mouse가 클릭된 상태 확인용\n",
    "mode = True # True이면 사각형, false면 원\n",
    "ix,iy = -1,-1\n",
    "\n",
    "b=[i for i in range(256)]\n",
    "g=[i for i in range(256)]\n",
    "r=[i for i in range(256)]\n",
    "\n",
    "# Mouse Callback함수\n",
    "def draw_circle(event, x,y, flags, param):\n",
    "\tglobal ix,iy, drawing, mode,b,g,r\n",
    "    \n",
    "    \n",
    "\tif event == cv2.EVENT_LBUTTONDOWN: #마우스를 누른 상태\n",
    "        drawing = True \n",
    "\t\tix, iy = x,y\n",
    "        \n",
    "\telif event == cv2.EVENT_MOUSEMOVE: # 마우스 이동\n",
    "\t\tif drawing == True:            # 마우스를 누른 상태 일경우\n",
    "\t\t\tif mode == True:\n",
    "\t\t\t\tcv2.rectangle(img,(ix,iy),(x,y),(b[0],g[0],r[0]),-1)\n",
    "\t\t\telse:\n",
    "\t\t\t\tcv2.circle(img,(x,y),5,(b[0],g[0],r[0]),-1)\n",
    "\n",
    "\telif event == cv2.EVENT_LBUTTONUP:\n",
    "\t\tdrawing = False;             # 마우스를 때면 상태 변경\n",
    "\t\tif mode == True:\n",
    "\t\t\tcv2.rectangle(img,(ix,iy),(x,y),(b[0],g[0],r[0]),-1)\n",
    "\t\telse:\n",
    "\t\t\tcv2.circle(img,(x,y),5,(b[0],g[0],r[0]),-1)\n",
    "\n",
    "img = np.zeros((512,512,3), np.uint8)\n",
    "cv2.namedWindow('image')\n",
    "cv2.setMouseCallback('image', draw_circle, param=img)\n",
    "\n",
    "while True:\n",
    "\tcv2.imshow('image', img)\n",
    "\n",
    "\tk = cv2.waitKey(1) & 0xFF\n",
    "\n",
    "\tif k == ord('m'):    # 사각형, 원 Mode변경\n",
    "\t\tmode = not mode\n",
    "\telif k == 27:        # esc를 누르면 종료\n",
    "\t\tbreak\n",
    "\n",
    "cv2.destroyAllWindows()"
   ]
  },
  {
   "cell_type": "code",
   "execution_count": null,
   "metadata": {},
   "outputs": [],
   "source": []
  }
 ],
 "metadata": {
  "kernelspec": {
   "display_name": "Python 3",
   "language": "python",
   "name": "python3"
  },
  "language_info": {
   "codemirror_mode": {
    "name": "ipython",
    "version": 3
   },
   "file_extension": ".py",
   "mimetype": "text/x-python",
   "name": "python",
   "nbconvert_exporter": "python",
   "pygments_lexer": "ipython3",
   "version": "3.7.6"
  }
 },
 "nbformat": 4,
 "nbformat_minor": 4
}

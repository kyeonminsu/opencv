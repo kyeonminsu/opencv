{
 "cells": [
  {
   "cell_type": "markdown",
   "metadata": {},
   "source": [
    "# Camera로 부터 영상 재생"
   ]
  },
  {
   "cell_type": "markdown",
   "metadata": {},
   "source": [
    "Camera로부터 영상을 읽어, 화면에 보옂기 위해서 아래와 같은 순서로 진행을 합니다.\n",
    "\n",
    "1.VideoCapture Object를 생성합니다. 변수로는 camera device index나 동영상 파일명   을 넘겨줍니다. 일반적으로 0 이면 Camera와 연결이 됩니다.\n",
    "2.Loop를 돌면서 frame을 읽어 들입니다.\n",
    "3.읽은 frame에 대해서 변환작업을 수행한 후, 화면에 보여줍니다.\n",
    "4.영상 재생이 끝나면, VideoCapure Object를 release하고 window를 닫습니다.\n",
    "\n",
    "아래 예제는 동영상을 읽어 grayscale로 변환 후 재생하는 예제입니다.\n",
    "웹캡이 있어야 가능하기 때문에 라즈베리파이에서 파이캠을 사용해서 하시길 ㅋ\n",
    "\n",
    "import cv2\n",
    "\n",
    "\n",
    "cap = cv2.VideoCapture(0)\n",
    "\n",
    "print 'width: {0}, height: {1}'.format(cap.get(3),cap.get(4))\n",
    "cap.set(3,320)\n",
    "cap.set(4,240)\n",
    "\n",
    "while(True):\n",
    "    # ret : frame capture결과(boolean)\n",
    "    # frame : Capture한 frame\n",
    "    ret, frame = cap.read()\n",
    "\n",
    "    if (ret):\n",
    "        # image를 Grayscale로 Convert함.\n",
    "        gray = cv2.cvtColor(frame, cv2.COLOR_BGR2GRAY)\n",
    "\n",
    "        cv2.imshow('frame', gray)\n",
    "        if cv2.waitKey(1) & 0xFF == ord('q'):\n",
    "            break\n",
    "\n",
    "cap.release()\n",
    "cv2.destroyAllWindows()"
   ]
  },
  {
   "cell_type": "markdown",
   "metadata": {},
   "source": [
    "# File로 부터 영상 재생"
   ]
  },
  {
   "cell_type": "code",
   "execution_count": 1,
   "metadata": {},
   "outputs": [],
   "source": [
    "import cv2"
   ]
  },
  {
   "cell_type": "code",
   "execution_count": 7,
   "metadata": {},
   "outputs": [],
   "source": [
    "fname='video.mp4'\n",
    "cap = cv2.VideoCapture(fname)"
   ]
  },
  {
   "cell_type": "code",
   "execution_count": 8,
   "metadata": {},
   "outputs": [
    {
     "name": "stdout",
     "output_type": "stream",
     "text": [
      "영상 끝\n"
     ]
    }
   ],
   "source": [
    "#while(cap.isOpened()):\n",
    "while True:    \n",
    "    ret, frame = cap.read()\n",
    "    \n",
    "    if not ret:\n",
    "        print(\"영상 끝\")\n",
    "        break\n",
    "        \n",
    "    gray = cv2.cvtColor(frame, cv2.COLOR_BGR2GRAY)\n",
    "    cv2.imshow('frame',gray)\n",
    "\n",
    "    if cv2.waitKey(30) & 0xFF == ord('q'):\n",
    "        break\n",
    "cap.release()\n",
    "cv2.destroyAllWindows()"
   ]
  },
  {
   "cell_type": "markdown",
   "metadata": {},
   "source": [
    "# 영상저장"
   ]
  },
  {
   "cell_type": "markdown",
   "metadata": {},
   "source": [
    "영상을 저장하기 위해서는 cv2.VideoWriter Object를 생성해야 합니다.\n",
    "\n",
    "cv2.VideoWriter(outputFile, fourcc, frame, size)\n",
    "영상을 저장하기 위한 Object\n",
    "\n",
    "Parameters:\t\n",
    "1.outputFile (str) – 저장될 파일명\n",
    "\n",
    "2.fourcc – Codec정보. cv2.VideoWriter_fourcc()\n",
    "\n",
    "3.frame (float) – 초당 저장될 frame\n",
    "\n",
    "4.size (list) – 저장될 사이즈(ex; 640, 480)\n",
    "\n",
    "fourcc정보는 cv2.VideoWriter_fourcc('M','J','P','G') 또는 cv2.VideoWriter_fourcc(*'MJPG) 와 같이 표현할 수 있습니다. 각 OS마다 지원하는 codec 다릅니다.(Windows는 DIVX)\n"
   ]
  },
  {
   "cell_type": "code",
   "execution_count": 12,
   "metadata": {},
   "outputs": [],
   "source": [
    "#웹캠이 있을 경우 가능.\n",
    "\n",
    "cap = cv2.VideoCapture(0)\n",
    "\n",
    "fourcc = cv2.VideoWriter_fourcc(*'DIVX')\n",
    "out = cv2.VideoWriter('video-test.mp4', fourcc, 25.0, (640,480))\n",
    "\n",
    "while(cap.isOpened()):\n",
    "    ret, frame = cap.read()\n",
    "\n",
    "    if ret:\n",
    "        # 이미지 반전,  0:상하, 1 : 좌우\n",
    "        frame = cv2.flip(frame, 0)\n",
    "\n",
    "        out.write(frame)\n",
    "\n",
    "        cv2.imshow('frame', frame)\n",
    "\n",
    "        if cv2.waitKey(0) & 0xFF == ord('q'):\n",
    "            break\n",
    "    else:\n",
    "        break\n",
    "\n",
    "cap.release()\n",
    "out.release()\n",
    "cv2.destroyAllWindows()"
   ]
  },
  {
   "cell_type": "code",
   "execution_count": null,
   "metadata": {},
   "outputs": [],
   "source": []
  }
 ],
 "metadata": {
  "kernelspec": {
   "display_name": "Python 3",
   "language": "python",
   "name": "python3"
  },
  "language_info": {
   "codemirror_mode": {
    "name": "ipython",
    "version": 3
   },
   "file_extension": ".py",
   "mimetype": "text/x-python",
   "name": "python",
   "nbconvert_exporter": "python",
   "pygments_lexer": "ipython3",
   "version": "3.7.6"
  }
 },
 "nbformat": 4,
 "nbformat_minor": 4
}

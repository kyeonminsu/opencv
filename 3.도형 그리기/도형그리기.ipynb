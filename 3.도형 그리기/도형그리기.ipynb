{
 "cells": [
  {
   "cell_type": "markdown",
   "metadata": {},
   "source": [
    "# Line 그리기"
   ]
  },
  {
   "cell_type": "markdown",
   "metadata": {},
   "source": [
    "Start와 End 점을 연결하여 직선을 그립니다.\n",
    "\n",
    "cv2.line(img, start, end, color, thickness)\n",
    "\n",
    "Parameters:\n",
    "\n",
    "    1.img – 그림을 그릴 이미지 파일\n",
    "    \n",
    "    2.start – 시작 좌표(ex; (0,0))\n",
    "    \n",
    "    3.end – 종료 좌표(ex; (500. 500))\n",
    "    \n",
    "    4.color – BGR형태의 Color(ex; (255, 0, 0) -> Blue)\n",
    "    \n",
    "    5.thickness (int) – 선의 두께. pixel"
   ]
  },
  {
   "cell_type": "code",
   "execution_count": 1,
   "metadata": {},
   "outputs": [],
   "source": [
    "import numpy as np\n",
    "import cv2"
   ]
  },
  {
   "cell_type": "code",
   "execution_count": 2,
   "metadata": {},
   "outputs": [],
   "source": [
    "#모두 0으로 되어 있는 빈 Canvas(검정색)\n",
    "img = np.zeros((512, 512, 3), np.uint8)\n",
    "img = cv2.line(img, (0, 0), (511, 511), (255, 0, 0), 5)\n",
    "\n",
    "cv2.imshow('image',img)\n",
    "cv2.waitKey(0)\n",
    "cv2.destroyAllWindows()"
   ]
  },
  {
   "cell_type": "markdown",
   "metadata": {},
   "source": [
    "# 사각형 그리기"
   ]
  },
  {
   "cell_type": "code",
   "execution_count": 3,
   "metadata": {},
   "outputs": [],
   "source": [
    "img = np.zeros((512, 512, 3), np.uint8)\n",
    "img = cv2.rectangle(img, (384, 0), (510, 128), (0,255,0), 3)\n",
    "\n",
    "cv2.imshow('image',img)\n",
    "cv2.waitKey(0)\n",
    "cv2.destroyAllWindows()"
   ]
  },
  {
   "cell_type": "markdown",
   "metadata": {},
   "source": [
    "# 원 그리기"
   ]
  },
  {
   "cell_type": "markdown",
   "metadata": {},
   "source": [
    "cv2.circle(img, center, radian, color, thickness)\n",
    "\n",
    "Parameters:\t\n",
    "\n",
    "    1.img – 그림을 그릴 이미지\n",
    "    \n",
    "    2.center – 원의 중심 좌표(x, y)\n",
    "    \n",
    "    3.radian – 반지름\n",
    "    \n",
    "    4.color – BGR형태의 Color\n",
    "    \n",
    "    5.thickness – 선의 두께, -1 이면 원 안쪽을 채움\n"
   ]
  },
  {
   "cell_type": "code",
   "execution_count": 11,
   "metadata": {},
   "outputs": [],
   "source": [
    "img = np.zeros((512, 512, 3), np.uint8)\n",
    "img = cv2.circle(img, (100,300), 63, (0,0,255), 50)\n",
    "\n",
    "cv2.imshow('image',img)\n",
    "cv2.waitKey(0)\n",
    "cv2.destroyAllWindows()"
   ]
  },
  {
   "cell_type": "markdown",
   "metadata": {},
   "source": [
    "# 타원 그리기"
   ]
  },
  {
   "cell_type": "markdown",
   "metadata": {},
   "source": [
    "cv2.ellipse(img, center, axes, angle, startAngle, endAngle, color,thickness)\n",
    "\n",
    "Parameters:\t\n",
    "    \n",
    "    1.img – image\n",
    "    \n",
    "    2.center – 타원의 중심\n",
    "    \n",
    "    3.axes – 중심에서 가장 큰 거리와 작은 거리\n",
    "    \n",
    "    4.angle – 타원의 기울기 각\n",
    "    \n",
    "    5.startAngle – 타원의 시작 각도\n",
    "    \n",
    "    6.endAngle – 타원이 끝나는 각도\n",
    "    \n",
    "    7.color – 타원의 색\n",
    "    \n",
    "    8.thickness – 선 두께 -1이면 안쪽을 채움\n"
   ]
  },
  {
   "cell_type": "code",
   "execution_count": 15,
   "metadata": {},
   "outputs": [],
   "source": [
    "img = np.zeros((512, 512, 3), np.uint8)\n",
    "img = cv2.ellipse(img, (256,256), (100,50), 0, 0, 180, 255, -1)\n",
    "\n",
    "cv2.imshow('image',img)\n",
    "cv2.waitKey(0)\n",
    "cv2.destroyAllWindows()"
   ]
  },
  {
   "cell_type": "markdown",
   "metadata": {},
   "source": [
    "# Polygon 그리기"
   ]
  },
  {
   "cell_type": "markdown",
   "metadata": {},
   "source": [
    "cv2.polylines(img, pts, isClosed, color, thickness\n",
    "\n",
    "Parameters:\t\n",
    "\n",
    "    1.img – image\n",
    "    \n",
    "    2.pts (array) – 연결할 꼭지점 좌표\n",
    "    \n",
    "    3.isClosed – 닫흰 도형 여부\n",
    "    \n",
    "    4.color – Color\n",
    "    \n",
    "    5.thickness – 선 두께"
   ]
  },
  {
   "cell_type": "code",
   "execution_count": null,
   "metadata": {},
   "outputs": [],
   "source": [
    "img = np.zeros((512, 512, 3), np.uint8)\n",
    "pts = np.array([[10,5], [20,30], [70,20], [50,10]], np.int32) # 각 꼭지점은 2차원 행렬로 선언\n",
    "# 이미지에 표현하기 위해 3차원 행렬로 변환. 변환이전과 이후의 행렬 갯수는 동일해야함.\n",
    "# -1은 원본에 해당하는 값을 그대로 유지.\n",
    "pts = pts.reshape((-1, 1, 2))\n",
    "img = cv2.polylines(img, [pts], True, (0,255,255))"
   ]
  },
  {
   "cell_type": "markdown",
   "metadata": {},
   "source": [
    "# 이미지에 Text 추가"
   ]
  },
  {
   "cell_type": "markdown",
   "metadata": {},
   "source": [
    "cv2.putText(img, text, org, font, fontSacle, color)\n",
    "\n",
    "Parameters:\t\n",
    "\n",
    "    1.img – image\n",
    "    \n",
    "    2.text – 표시할 문자열\n",
    "    \n",
    "    3.org – 문자열이 표시될 위치. 문자열의 bottom-left corner점\n",
    "    \n",
    "    4.font – font type. CV2.FONT_XXX\n",
    "    \n",
    "    5.fontSacle – Font Size\n",
    "    \n",
    "    6.color – fond color"
   ]
  },
  {
   "cell_type": "code",
   "execution_count": 2,
   "metadata": {},
   "outputs": [],
   "source": [
    "img = np.zeros((512, 512, 3), np.uint8)\n",
    "img = cv2.putText(img, 'OpenCV', (10,500), cv2.FONT_HERSHEY_SIMPLEX, 4, (255,255,255), 2)\n",
    "\n",
    "cv2.imshow('image',img)\n",
    "cv2.waitKey(0)\n",
    "cv2.destroyAllWindows()"
   ]
  },
  {
   "cell_type": "code",
   "execution_count": null,
   "metadata": {},
   "outputs": [],
   "source": []
  }
 ],
 "metadata": {
  "kernelspec": {
   "display_name": "Python 3",
   "language": "python",
   "name": "python3"
  },
  "language_info": {
   "codemirror_mode": {
    "name": "ipython",
    "version": 3
   },
   "file_extension": ".py",
   "mimetype": "text/x-python",
   "name": "python",
   "nbconvert_exporter": "python",
   "pygments_lexer": "ipython3",
   "version": "3.7.6"
  }
 },
 "nbformat": 4,
 "nbformat_minor": 4
}
